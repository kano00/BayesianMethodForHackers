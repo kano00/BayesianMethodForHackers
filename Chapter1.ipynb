{
 "cells": [
  {
   "cell_type": "code",
   "execution_count": 1,
   "metadata": {
    "collapsed": true
   },
   "outputs": [],
   "source": [
    "%matplotlib inline"
   ]
  },
  {
   "cell_type": "markdown",
   "metadata": {},
   "source": [
    "# Chapter1 ベイズ推論の考え方"
   ]
  },
  {
   "cell_type": "markdown",
   "metadata": {},
   "source": [
    "## 例題1：司書か農家か？\n",
    "- 事象\n",
    "    - スティーブが農家であるか司書であるか\n",
    "- 事前確率\n",
    "    - P(司書)=1/21, P(農家)=20/21\n",
    "- データ\n",
    "    - スティーブの正確 → 内向的な性格\n"
   ]
  },
  {
   "cell_type": "code",
   "execution_count": 2,
   "metadata": {
    "collapsed": false
   },
   "outputs": [
    {
     "data": {
      "text/plain": [
       "<matplotlib.legend.Legend at 0x7f5755bad208>"
      ]
     },
     "execution_count": 2,
     "metadata": {},
     "output_type": "execute_result"
    },
    {
     "data": {
      "image/png": "[encoded data removed]",
      "text/plain": [
       "<matplotlib.figure.Figure at 0x7f5755bad1d0>"
      ]
     },
     "metadata": {},
     "output_type": "display_data"
    }
   ],
   "source": [
    "from IPython.core.pylabtools import figsize\n",
    "import numpy as np\n",
    "from matplotlib import pyplot as plt\n",
    "figsize(12.5, 4)\n",
    "\n",
    "colors = [\"#348abd\", \"#a60628\"]\n",
    "\n",
    "# 事前分布\n",
    "prior = [1/21., 20/21.]\n",
    "# 事後分布（手動で計算済み, ベイズ推定）\n",
    "posterior = [0.087, 1-0.087]\n",
    "\n",
    "# 事前確率のplot\n",
    "plt.bar([0, .7], prior, alpha=0.7, width=0.25, color=colors[0], \n",
    "       label='prior', lw=3, edgecolor=colors[0])\n",
    "\n",
    "# 事後分布のplot\n",
    "plt.bar([0+0.25, .7+0.25], posterior, alpha=0.7, width=0.25, color=colors[1], \n",
    "       label='posterior', lw=3, edgecolor=colors[1])\n",
    "plt.xticks([0.25, 0.95], ['Librarian', 'Farmar'])\n",
    "plt.legend()"
   ]
  },
  {
   "cell_type": "markdown",
   "metadata": {
    "collapsed": true
   },
   "source": [
    "## 例題2：メッセージ数に変化はあるか？\n",
    "- ユーザが毎日受信するメッセージ数に変化点があるのか否か\n",
    "- 事象：メッセージ受信数\n",
    "- データ：ユーザが毎日受信するメッセージ数\n"
   ]
  },
  {
   "cell_type": "code",
   "execution_count": 3,
   "metadata": {
    "collapsed": false
   },
   "outputs": [
    {
     "data": {
      "text/plain": [
       "<Container object of 74 artists>"
      ]
     },
     "execution_count": 3,
     "metadata": {},
     "output_type": "execute_result"
    },
    {
     "data": {
      "image/png": "[encoded data removed]",
      "text/plain": [
       "<matplotlib.figure.Figure at 0x7f57783187b8>"
      ]
     },
     "metadata": {},
     "output_type": "display_data"
    }
   ],
   "source": [
    "# データはgithubから取得(data/txtdata.csv)\n",
    "figsize(12.5, 3.5)\n",
    "\n",
    "# データの取り込みとplot\n",
    "count_data = np.loadtxt('data/txtdata.csv')\n",
    "n_count_data = len(count_data)\n",
    "plt.bar(np.arange(n_count_data), count_data)\n",
    "\n",
    "# 40日くらいから増えているように見えないこともない"
   ]
  },
  {
   "cell_type": "markdown",
   "metadata": {},
   "source": [
    "### モデル\n",
    "- メッセージの受信数Cはポアソン分布とする\n",
    "    - ある時期$\\tau$で受信数に変化が起こったと仮定（変化がなければ予測したポアソン分布は差が無いように見えるはず）\n",
    "    - ポアソン分布のパラメータ$\\lambda$を予測する\n",
    "    - $\\lambda$の事前分布を指数分布として、指数分布のパラメータ$\\alpha$はメッセージ受信数の逆数を初期値とする\n",
    "- 変化点$\\tau$は一様分布とする"
   ]
  },
  {
   "cell_type": "markdown",
   "metadata": {},
   "source": [
    "### 変化点の推定"
   ]
  },
  {
   "cell_type": "code",
   "execution_count": 4,
   "metadata": {
    "collapsed": false
   },
   "outputs": [
    {
     "name": "stdout",
     "output_type": "stream",
     "text": [
      " [-----------------100%-----------------] 40000 of 40000 complete in 7.6 sec"
     ]
    }
   ],
   "source": [
    "import pymc as pm\n",
    "\n",
    "# lambdaの事前分布のパラメータalpha\n",
    "alpha = 1.0 / count_data.mean()\n",
    "\n",
    "# 予測する変数を確率的な変数として定義する\n",
    "## stochastic変数\n",
    "lambda_1 = pm.Exponential(\"lambda_1\", alpha)\n",
    "lambda_2 = pm.Exponential(\"lambda_2\", alpha)\n",
    "tau = pm.DiscreteUniform(\"tau\", lower=0, upper=n_count_data)\n",
    "\n",
    "# シミュレーションのための決定的な変数を生成する関数\n",
    "## deterministic変数\n",
    "@pm.deterministic\n",
    "def lambda_(tau=tau, lambda_1=lambda_1, lambda_2=lambda_2):\n",
    "    \"\"\"\n",
    "    シミュレーション用のlambdaの列を作る\n",
    "    lambda_はtauが与えられれば、その前がlambda_1、後がlambda_2になる\n",
    "    確率的に変化しないので、deterministicデコレータをつける\n",
    "    \"\"\"\n",
    "    out = np.zeros(n_count_data)\n",
    "    out[:tau] = lambda_1\n",
    "    out[tau:] = lambda_2\n",
    "    return out\n",
    "\n",
    "# データの生成モデルのオブジェクトを作成\n",
    "## 観測値=メッセージ受信数はポアソン分布としている\n",
    "## ポアソン分布のパラメータlambdaはlambda_（tauでパラメータが変化している）\n",
    "observation = pm.Poisson(\"obs\", lambda_, value=count_data, observed=True)\n",
    "\n",
    "# Pymcのモデルインスタンスを生成\n",
    "model = pm.Model([observation, lambda_1, lambda_2, tau])\n",
    "\n",
    "# パラメータの推定\n",
    "mcmc = pm.MCMC(model)\n",
    "mcmc.sample(40000, 10000) # 40000回のMCMCステップ、10000回はバーンイン"
   ]
  },
  {
   "cell_type": "code",
   "execution_count": 5,
   "metadata": {
    "collapsed": false
   },
   "outputs": [
    {
     "name": "stdout",
     "output_type": "stream",
     "text": [
      "<class 'pymc.Model.Model'>\n",
      "<class 'pymc.MCMC.MCMC'>\n",
      "<class 'pymc.distributions.new_dist_class.<locals>.new_class'>\n"
     ]
    }
   ],
   "source": [
    "print(type(model))\n",
    "print(type(mcmc))\n",
    "print(type(observation))"
   ]
  },
  {
   "cell_type": "code",
   "execution_count": 6,
   "metadata": {
    "collapsed": false
   },
   "outputs": [
    {
     "data": {
      "text/plain": [
       "<matplotlib.legend.Legend at 0x7f571bc4df60>"
      ]
     },
     "execution_count": 6,
     "metadata": {},
     "output_type": "execute_result"
    },
    {
     "data": {
      "image/png": "[encoded data removed]",
      "text/plain": [
       "<matplotlib.figure.Figure at 0x7f571bd9e160>"
      ]
     },
     "metadata": {},
     "output_type": "display_data"
    }
   ],
   "source": [
    "# 予測結果の確認\n",
    "\n",
    "## mcmcシミュレーションの経過状態を取得\n",
    "### traceメソッドではオブジェクトなので、配列を受け取るために[:]をつける\n",
    "lambda_1_sample = mcmc.trace('lambda_1')[:]\n",
    "lambda_2_sample = mcmc.trace('lambda_2')[:]\n",
    "tau_sample = mcmc.trace('tau')[:]\n",
    "\n",
    "figsize(14.5, 10)\n",
    "\n",
    "ax = plt.subplot(311)\n",
    "ax.set_autoscaley_on(False)\n",
    "plt.hist(lambda_1_sample, histtype='stepfilled', \n",
    "         bins=30, alpha=0.8, normed=True, label=\"posterior of $\\lambda_1$\")\n",
    "plt.xlim([15, 30])\n",
    "plt.legend()\n",
    "\n",
    "ax = plt.subplot(312)\n",
    "ax.set_autoscaley_on(False)\n",
    "plt.hist(lambda_2_sample, histtype='stepfilled', \n",
    "         bins=30, alpha=0.8, normed=True, label=\"posterior of $\\lambda_2$\")\n",
    "plt.xlim([15, 30])\n",
    "plt.legend()\n",
    "\n",
    "ax = plt.subplot(313)\n",
    "ax.set_autoscaley_on(True)\n",
    "plt.hist(tau_sample, histtype='stepfilled', \n",
    "         bins=n_count_data, alpha=1.0, normed=True, label=\"posterior of $\\tau$\")\n",
    "plt.xlim([35, len(count_data)-20])\n",
    "plt.legend()\n"
   ]
  },
  {
   "cell_type": "markdown",
   "metadata": {},
   "source": [
    "予測した事後分布から、2つの期間ではポアソン分布のパラメータが違っているようだ。\n",
    "つまり、2つの期間でメッセージ数には変化があると見える。\n",
    "\n",
    "変化の生じた日は、45日か44日であろうということもわかった。"
   ]
  },
  {
   "cell_type": "markdown",
   "metadata": {
    "collapsed": true
   },
   "source": [
    "### 事後分布からメッセージ受信数の期待値を計算\n",
    "- 分布が変わったのはわかった\n",
    "- 実際にどれくらいのメッセージを受け取るだろうと予測されるのか？"
   ]
  },
  {
   "cell_type": "code",
   "execution_count": 7,
   "metadata": {
    "collapsed": false
   },
   "outputs": [
    {
     "data": {
      "text/plain": [
       "<matplotlib.legend.Legend at 0x7f5778318940>"
      ]
     },
     "execution_count": 7,
     "metadata": {},
     "output_type": "execute_result"
    },
    {
     "data": {
      "image/png": "[encoded data removed]",
      "text/plain": [
       "<matplotlib.figure.Figure at 0x7f575340e6d8>"
      ]
     },
     "metadata": {},
     "output_type": "display_data"
    }
   ],
   "source": [
    "figsize(12.5, 5)\n",
    "\n",
    "N = tau_sample.shape[0] # tauじゃなくても良くて、サンプルの数, MCMCの入力パラメータ\n",
    "expected_texts_per_day = np.zeros(n_count_data)\n",
    "\n",
    "for day in range(0, n_count_data):\n",
    "    # 変化点の前後でパラメータ（ポアソン分布のパラメータlambda）が変化するので、\n",
    "    # dayがtauのサンプルに対して、変化点の前か後かを示すbool値\n",
    "    ix = day < tau_sample\n",
    "    \n",
    "    # 変化点の前ならlambda_1からのサンプル, 変化点の後ならlambda_2からのサンプル\n",
    "    # ポアソン分布のパラメータlambdaは発生数の期待値なので、\n",
    "    # lambda_1_sampleなどから直接サンプルしてきて、平均すれば良い\n",
    "    expected_texts_per_day[day] = (lambda_1_sample[ix].sum() \n",
    "                                  + lambda_2_sample[~ix].sum()) / N\n",
    "\n",
    "plt.plot(range(n_count_data), expected_texts_per_day, lw=4, color='#e24a33', \n",
    "        label = 'Expected number of text messages received')\n",
    "plt.xlim(0, n_count_data)\n",
    "plt.ylim(0, 60)\n",
    "plt.xlabel('Day')\n",
    "\n",
    "plt.bar(np.arange(len(count_data)), count_data, color='#348abd', alpha=0.6, \n",
    "       label = 'Observed text messages')\n",
    "plt.legend()"
   ]
  },
  {
   "cell_type": "markdown",
   "metadata": {},
   "source": [
    "### 事後分布を使っていろいろ分析してみる\n",
    "\n",
    "#### 2つの期間でパラメータが異なっているのは本当か？\n",
    "- 上記では、明らかにパラメータの事後分布が異なっていると「目視」で確認した\n",
    "- 定量的には如何ようにして測ったら良いか？\n",
    "    - $P(\\lambda_1 < \\lambda_2 | data)$を計算する\n",
    "    - つまり、事後分布のサンプルから、$\\lambda_1 < \\lambda_2$となる頻度を計算"
   ]
  },
  {
   "cell_type": "code",
   "execution_count": 8,
   "metadata": {
    "collapsed": false
   },
   "outputs": [
    {
     "name": "stdout",
     "output_type": "stream",
     "text": [
      "30000\n",
      "30000\n",
      "1.0\n"
     ]
    }
   ],
   "source": [
    "gt_lambda2 = lambda_1_sample < lambda_2_sample\n",
    "n_gt_lambda2 = gt_lambda2.sum()\n",
    "N = lambda_1_sample.shape[0]\n",
    "p_gt_lambda2 = n_gt_lambda2 / np.float(N)\n",
    "\n",
    "print(n_gt_lambda2)\n",
    "print(N)\n",
    "print(p_gt_lambda2)"
   ]
  },
  {
   "cell_type": "markdown",
   "metadata": {},
   "source": [
    "明らかに2つの分布は異なるようだ（マジで？バグない？）"
   ]
  },
  {
   "cell_type": "markdown",
   "metadata": {
    "collapsed": true
   },
   "source": [
    "### 変化点は一つなのか？\n",
    "- 変化点が一つというのは、モデル設計者の感覚に依っている\n",
    "- 2つの変化点があると仮定するとどうなるか？"
   ]
  },
  {
   "cell_type": "code",
   "execution_count": 9,
   "metadata": {
    "collapsed": false
   },
   "outputs": [
    {
     "name": "stdout",
     "output_type": "stream",
     "text": [
      " [-----------------100%-----------------] 40000 of 40000 complete in 12.3 sec"
     ]
    }
   ],
   "source": [
    "# 予測する変数を確率的な変数として定義する\n",
    "## 変化点が2回あると仮定すると、lambdaは3つ\n",
    "## stochastic変数\n",
    "lambda_1 = pm.Exponential(\"lambda_1\", alpha)\n",
    "lambda_2 = pm.Exponential(\"lambda_2\", alpha)\n",
    "lambda_3 = pm.Exponential(\"lambda_3\", alpha)\n",
    "## 変化点が2つなので、tauを2つ用意\n",
    "tau_1 = pm.DiscreteUniform(\"tau_1\", lower=0, upper=n_count_data-1)\n",
    "tau_2 = pm.DiscreteUniform(\"tau_2\", lower=tau_1, upper=n_count_data)\n",
    "\n",
    "# シミュレーションのための決定的な変数を生成する関数\n",
    "## deterministic変数\n",
    "@pm.deterministic\n",
    "def lambda_(tau_1=tau_1, tau_2=tau_2, \n",
    "            lambda_1=lambda_1, lambda_2=lambda_2, lambda_3=lambda_3):\n",
    "    \"\"\"\n",
    "    シミュレーション用のlambdaの列を作る\n",
    "    lambda_はtauが与えられれば、その前がlambda_1、後がlambda_2になる\n",
    "    確率的に変化しないので、deterministicデコレータをつける\n",
    "    \"\"\"\n",
    "    out = np.zeros(n_count_data)\n",
    "    out[:tau_1] = lambda_1\n",
    "    out[tau_1:tau_2] = lambda_2\n",
    "    out[tau_2:] = lambda_3\n",
    "    return out\n",
    "\n",
    "observation = pm.Poisson(\"obs\", lambda_, value=count_data, observed=True)\n",
    "\n",
    "model = pm.Model([observation, \n",
    "                 lambda_1, lambda_2, lambda_3, \n",
    "                 tau_1, tau_2])\n",
    "mcmc = pm.MCMC(model)\n",
    "mcmc.sample(40000, 10000)\n"
   ]
  },
  {
   "cell_type": "code",
   "execution_count": 10,
   "metadata": {
    "collapsed": false
   },
   "outputs": [
    {
     "data": {
      "text/plain": [
       "<matplotlib.legend.Legend at 0x7f571b2d3c88>"
      ]
     },
     "execution_count": 10,
     "metadata": {},
     "output_type": "execute_result"
    },
    {
     "data": {
      "image/png": "[encoded data removed]",
      "text/plain": [
       "<matplotlib.figure.Figure at 0x7f571bae2cf8>"
      ]
     },
     "metadata": {},
     "output_type": "display_data"
    }
   ],
   "source": [
    "# 予測結果の確認\n",
    "\n",
    "## mcmcシミュレーションの経過状態を取得\n",
    "### traceメソッドではオブジェクトなので、配列を受け取るために[:]をつける\n",
    "lambda_1_sample = mcmc.trace('lambda_1')[:]\n",
    "lambda_2_sample = mcmc.trace('lambda_2')[:]\n",
    "lambda_3_sample = mcmc.trace('lambda_3')[:]\n",
    "tau1_sample = mcmc.trace('tau_1')[:]\n",
    "tau2_sample = mcmc.trace('tau_2')[:]\n",
    "\n",
    "figsize(14.5, 10)\n",
    "\n",
    "ax = plt.subplot(511)\n",
    "ax.set_autoscaley_on(False)\n",
    "plt.hist(lambda_1_sample, histtype='stepfilled', \n",
    "         bins=30, alpha=0.8, normed=True, label=\"posterior of $\\lambda_1$\")\n",
    "plt.xlim([8, 26])\n",
    "plt.legend()\n",
    "\n",
    "ax = plt.subplot(512)\n",
    "ax.set_autoscaley_on(False)\n",
    "plt.hist(lambda_2_sample, histtype='stepfilled', \n",
    "         bins=30, alpha=0.8, normed=True, label=\"posterior of $\\lambda_2$\")\n",
    "#plt.xlim([15, 30])\n",
    "plt.xlim([8, 26])\n",
    "plt.legend()\n",
    "\n",
    "ax = plt.subplot(513)\n",
    "ax.set_autoscaley_on(False)\n",
    "plt.hist(lambda_3_sample, histtype='stepfilled', \n",
    "         bins=30, alpha=0.8, normed=True, label=\"posterior of $\\lambda_3$\")\n",
    "#plt.xlim([15, 30])\n",
    "plt.xlim([8, 26])\n",
    "plt.legend()\n",
    "\n",
    "ax = plt.subplot(514)\n",
    "ax.set_autoscaley_on(True)\n",
    "plt.hist(tau1_sample, histtype='stepfilled', \n",
    "         bins=n_count_data, alpha=1.0, normed=True, label=\"posterior of $\\tau_1$\")\n",
    "#plt.xlim([0, len(count_data)])\n",
    "plt.xlim([20, 50])\n",
    "plt.legend()\n",
    "\n",
    "ax = plt.subplot(515)\n",
    "ax.set_autoscaley_on(True)\n",
    "plt.hist(tau2_sample, histtype='stepfilled', \n",
    "         bins=n_count_data, alpha=1.0, normed=True, label=\"posterior of $\\tau_2$\")\n",
    "#plt.xlim([0, len(count_data)])\n",
    "plt.xlim([20, 50])\n",
    "plt.legend()\n"
   ]
  },
  {
   "cell_type": "code",
   "execution_count": null,
   "metadata": {
    "collapsed": true
   },
   "outputs": [],
   "source": []
  }
 ],
 "metadata": {
  "kernelspec": {
   "display_name": "Python 3",
   "language": "python",
   "name": "python3"
  },
  "language_info": {
   "codemirror_mode": {
    "name": "ipython",
    "version": 3
   },
   "file_extension": ".py",
   "mimetype": "text/x-python",
   "name": "python",
   "nbconvert_exporter": "python",
   "pygments_lexer": "ipython3",
   "version": "3.6.0"
  },
  "toc": {
   "colors": {
    "hover_highlight": "#DAA520",
    "navigate_num": "#000000",
    "navigate_text": "#333333",
    "running_highlight": "#FF0000",
    "selected_highlight": "#FFD700",
    "sidebar_border": "#EEEEEE",
    "wrapper_background": "#FFFFFF"
   },
   "moveMenuLeft": true,
   "nav_menu": {
    "height": "48px",
    "width": "252px"
   },
   "navigate_menu": true,
   "number_sections": true,
   "sideBar": true,
   "threshold": 4,
   "toc_cell": false,
   "toc_section_display": "block",
   "toc_window_display": true,
   "widenNotebook": false
  }
 },
 "nbformat": 4,
 "nbformat_minor": 2
}
