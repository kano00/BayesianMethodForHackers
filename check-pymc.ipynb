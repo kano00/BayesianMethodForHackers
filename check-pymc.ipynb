{
 "cells": [
  {
   "cell_type": "markdown",
   "metadata": {},
   "source": [
    "# 目的\n",
    "- pymcを使うための事前準備のメモ\n",
    "\n",
    "## ToDo\n",
    "- pyenv, Anacondaの導入をもうちょい詳しく書く"
   ]
  },
  {
   "cell_type": "markdown",
   "metadata": {},
   "source": [
    "# 環境設定\n",
    "- 環境の整備をする\n",
    "\n",
    "## 概要\n",
    "- Pythonは3系を使う\n",
    "- 素のPythonではなく、Anacondaを利用する\n",
    "    - pyenvで仮想環境上に環境を作ることにする\n",
    "\n",
    "## Anacondaの導入\n",
    "- 以下のページなどを参考にAnacondaを導入\n",
    "    - [qiita参考ページ](http://qiita.com/Kodaira_/items/feadfef9add468e3a85b)\n",
    "- アップデート\n",
    "```\n",
    "$ conda update conda\n",
    "$ conda update anaconda\n",
    "$ conda update --all\n",
    "```\n",
    "- pymcのインストール\n",
    "```\n",
    "$ conda install pymc\n",
    "```\n"
   ]
  },
  {
   "cell_type": "code",
   "execution_count": 1,
   "metadata": {
    "collapsed": true
   },
   "outputs": [],
   "source": [
    "import pymc"
   ]
  },
  {
   "cell_type": "code",
   "execution_count": null,
   "metadata": {
    "collapsed": true
   },
   "outputs": [],
   "source": []
  }
 ],
 "metadata": {
  "kernelspec": {
   "display_name": "Python 3",
   "language": "python",
   "name": "python3"
  },
  "language_info": {
   "codemirror_mode": {
    "name": "ipython",
    "version": 3
   },
   "file_extension": ".py",
   "mimetype": "text/x-python",
   "name": "python",
   "nbconvert_exporter": "python",
   "pygments_lexer": "ipython3",
   "version": "3.6.0"
  }
 },
 "nbformat": 4,
 "nbformat_minor": 2
}
